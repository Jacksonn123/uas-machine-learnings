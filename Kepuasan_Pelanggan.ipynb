{
 "cells": [
  {
   "cell_type": "markdown",
   "metadata": {
    "id": "lBkIbHDulqIY"
   },
   "source": [
    "##**Import Library**"
   ]
  },
  {
   "cell_type": "code",
   "execution_count": 1,
   "metadata": {
    "id": "Lr8R6nhSlxHI"
   },
   "outputs": [],
   "source": [
    "import pandas as pd\n",
    "import numpy as np\n",
    "import matplotlib.pyplot as plt\n",
    "import seaborn as sns\n",
    "import plotly.express as ex\n",
    "from sklearn.preprocessing import MinMaxScaler\n",
    "from sklearn.model_selection import train_test_split\n",
    "from sklearn.svm import SVC\n",
    "from sklearn.metrics import classification_report\n",
    "\n",
    "import warnings\n",
    "warnings.filterwarnings('ignore')\n",
    "%matplotlib inline"
   ]
  },
  {
   "cell_type": "markdown",
   "metadata": {
    "id": "3cva4dNamIor"
   },
   "source": [
    "##**Load Dataset**"
   ]
  },
  {
   "cell_type": "code",
   "execution_count": 2,
   "metadata": {
    "colab": {
     "base_uri": "https://localhost:8080/",
     "height": 634
    },
    "id": "zXk76lL8lxCo",
    "outputId": "8187b254-dd4b-4e46-cab3-bc5896e3f22e"
   },
   "outputs": [
    {
     "data": {
      "text/html": [
       "\n",
       "  <div id=\"df-81d38777-bc37-4809-a184-fa965de9a4fd\">\n",
       "    <div class=\"colab-df-container\">\n",
       "      <div>\n",
       "<style scoped>\n",
       "    .dataframe tbody tr th:only-of-type {\n",
       "        vertical-align: middle;\n",
       "    }\n",
       "\n",
       "    .dataframe tbody tr th {\n",
       "        vertical-align: top;\n",
       "    }\n",
       "\n",
       "    .dataframe thead th {\n",
       "        text-align: right;\n",
       "    }\n",
       "</style>\n",
       "<table border=\"1\" class=\"dataframe\">\n",
       "  <thead>\n",
       "    <tr style=\"text-align: right;\">\n",
       "      <th></th>\n",
       "      <th>Nama</th>\n",
       "      <th>Seberapa banyak NASI untuk porsi Anda?</th>\n",
       "      <th>Apa jenis LAUK yang paling sering Anda makan di kantin?</th>\n",
       "      <th>Berapa banyak porsi anda jika mengonsumsi SAYURAN?</th>\n",
       "      <th>Seberapa banyak porsi makan Anda dalam SATU HIDANGAN jika makan di kantin?</th>\n",
       "      <th>Bagaimana RASA makanan di kantin 5 menurut anda?</th>\n",
       "      <th>Apakah Anda ada KELUHAN dengan makanan yang disajikan di kantin 5? (Untuk Keluhan maksimal 3 kata)</th>\n",
       "      <th>Menurut Anda seberapa HIGIENIS makanan yang ada di kantin 5?</th>\n",
       "      <th>Apakah Anda merasa HARGA makanan di kantin 5 terlalu mahal untuk kualitas dan porsi yang diberikan? Berikan kisaran harga yang sesuai dengan porsi makan anda</th>\n",
       "      <th>Apakah PELAYANAN di kantin 5 ramah dan memuaskan?</th>\n",
       "      <th>Apakah kantin 5 menyediakan MENU yang beragam dan sesuai dengan kebutuhan Anda?</th>\n",
       "    </tr>\n",
       "  </thead>\n",
       "  <tbody>\n",
       "    <tr>\n",
       "      <th>0</th>\n",
       "      <td>kaita</td>\n",
       "      <td>Sedang</td>\n",
       "      <td>Daging Sapi</td>\n",
       "      <td>Sedang</td>\n",
       "      <td>Banyak</td>\n",
       "      <td>Enak</td>\n",
       "      <td>Hambar</td>\n",
       "      <td>5</td>\n",
       "      <td>21000</td>\n",
       "      <td>5</td>\n",
       "      <td>5</td>\n",
       "    </tr>\n",
       "    <tr>\n",
       "      <th>1</th>\n",
       "      <td>Ningrum</td>\n",
       "      <td>Sedikit</td>\n",
       "      <td>Sosis/Telur</td>\n",
       "      <td>Sedikit</td>\n",
       "      <td>Sedikit</td>\n",
       "      <td>Lumayan</td>\n",
       "      <td>Hambar</td>\n",
       "      <td>4</td>\n",
       "      <td>18000</td>\n",
       "      <td>5</td>\n",
       "      <td>5</td>\n",
       "    </tr>\n",
       "    <tr>\n",
       "      <th>2</th>\n",
       "      <td>Karin</td>\n",
       "      <td>Sedang</td>\n",
       "      <td>Daging Sapi</td>\n",
       "      <td>Sedang</td>\n",
       "      <td>Sedang</td>\n",
       "      <td>Enak</td>\n",
       "      <td>Tidak ada</td>\n",
       "      <td>5</td>\n",
       "      <td>21000</td>\n",
       "      <td>5</td>\n",
       "      <td>5</td>\n",
       "    </tr>\n",
       "    <tr>\n",
       "      <th>3</th>\n",
       "      <td>Rannum</td>\n",
       "      <td>Sedikit</td>\n",
       "      <td>Ayam</td>\n",
       "      <td>Sedikit</td>\n",
       "      <td>Sedikit</td>\n",
       "      <td>Lumayan</td>\n",
       "      <td>Hambar</td>\n",
       "      <td>5</td>\n",
       "      <td>21000</td>\n",
       "      <td>5</td>\n",
       "      <td>5</td>\n",
       "    </tr>\n",
       "    <tr>\n",
       "      <th>4</th>\n",
       "      <td>Lovish</td>\n",
       "      <td>Sedang</td>\n",
       "      <td>Ayam</td>\n",
       "      <td>Sedikit</td>\n",
       "      <td>Sedang</td>\n",
       "      <td>Enak</td>\n",
       "      <td>Tidak ada</td>\n",
       "      <td>4</td>\n",
       "      <td>25000</td>\n",
       "      <td>4</td>\n",
       "      <td>4</td>\n",
       "    </tr>\n",
       "  </tbody>\n",
       "</table>\n",
       "</div>\n",
       "      <button class=\"colab-df-convert\" onclick=\"convertToInteractive('df-81d38777-bc37-4809-a184-fa965de9a4fd')\"\n",
       "              title=\"Convert this dataframe to an interactive table.\"\n",
       "              style=\"display:none;\">\n",
       "        \n",
       "  <svg xmlns=\"http://www.w3.org/2000/svg\" height=\"24px\"viewBox=\"0 0 24 24\"\n",
       "       width=\"24px\">\n",
       "    <path d=\"M0 0h24v24H0V0z\" fill=\"none\"/>\n",
       "    <path d=\"M18.56 5.44l.94 2.06.94-2.06 2.06-.94-2.06-.94-.94-2.06-.94 2.06-2.06.94zm-11 1L8.5 8.5l.94-2.06 2.06-.94-2.06-.94L8.5 2.5l-.94 2.06-2.06.94zm10 10l.94 2.06.94-2.06 2.06-.94-2.06-.94-.94-2.06-.94 2.06-2.06.94z\"/><path d=\"M17.41 7.96l-1.37-1.37c-.4-.4-.92-.59-1.43-.59-.52 0-1.04.2-1.43.59L10.3 9.45l-7.72 7.72c-.78.78-.78 2.05 0 2.83L4 21.41c.39.39.9.59 1.41.59.51 0 1.02-.2 1.41-.59l7.78-7.78 2.81-2.81c.8-.78.8-2.07 0-2.86zM5.41 20L4 18.59l7.72-7.72 1.47 1.35L5.41 20z\"/>\n",
       "  </svg>\n",
       "      </button>\n",
       "      \n",
       "  <style>\n",
       "    .colab-df-container {\n",
       "      display:flex;\n",
       "      flex-wrap:wrap;\n",
       "      gap: 12px;\n",
       "    }\n",
       "\n",
       "    .colab-df-convert {\n",
       "      background-color: #E8F0FE;\n",
       "      border: none;\n",
       "      border-radius: 50%;\n",
       "      cursor: pointer;\n",
       "      display: none;\n",
       "      fill: #1967D2;\n",
       "      height: 32px;\n",
       "      padding: 0 0 0 0;\n",
       "      width: 32px;\n",
       "    }\n",
       "\n",
       "    .colab-df-convert:hover {\n",
       "      background-color: #E2EBFA;\n",
       "      box-shadow: 0px 1px 2px rgba(60, 64, 67, 0.3), 0px 1px 3px 1px rgba(60, 64, 67, 0.15);\n",
       "      fill: #174EA6;\n",
       "    }\n",
       "\n",
       "    [theme=dark] .colab-df-convert {\n",
       "      background-color: #3B4455;\n",
       "      fill: #D2E3FC;\n",
       "    }\n",
       "\n",
       "    [theme=dark] .colab-df-convert:hover {\n",
       "      background-color: #434B5C;\n",
       "      box-shadow: 0px 1px 3px 1px rgba(0, 0, 0, 0.15);\n",
       "      filter: drop-shadow(0px 1px 2px rgba(0, 0, 0, 0.3));\n",
       "      fill: #FFFFFF;\n",
       "    }\n",
       "  </style>\n",
       "\n",
       "      <script>\n",
       "        const buttonEl =\n",
       "          document.querySelector('#df-81d38777-bc37-4809-a184-fa965de9a4fd button.colab-df-convert');\n",
       "        buttonEl.style.display =\n",
       "          google.colab.kernel.accessAllowed ? 'block' : 'none';\n",
       "\n",
       "        async function convertToInteractive(key) {\n",
       "          const element = document.querySelector('#df-81d38777-bc37-4809-a184-fa965de9a4fd');\n",
       "          const dataTable =\n",
       "            await google.colab.kernel.invokeFunction('convertToInteractive',\n",
       "                                                     [key], {});\n",
       "          if (!dataTable) return;\n",
       "\n",
       "          const docLinkHtml = 'Like what you see? Visit the ' +\n",
       "            '<a target=\"_blank\" href=https://colab.research.google.com/notebooks/data_table.ipynb>data table notebook</a>'\n",
       "            + ' to learn more about interactive tables.';\n",
       "          element.innerHTML = '';\n",
       "          dataTable['output_type'] = 'display_data';\n",
       "          await google.colab.output.renderOutput(dataTable, element);\n",
       "          const docLink = document.createElement('div');\n",
       "          docLink.innerHTML = docLinkHtml;\n",
       "          element.appendChild(docLink);\n",
       "        }\n",
       "      </script>\n",
       "    </div>\n",
       "  </div>\n",
       "  "
      ],
      "text/plain": [
       "      Nama Seberapa banyak NASI untuk porsi Anda?  \\\n",
       "0    kaita                                 Sedang   \n",
       "1  Ningrum                                Sedikit   \n",
       "2    Karin                                 Sedang   \n",
       "3   Rannum                                Sedikit   \n",
       "4   Lovish                                 Sedang   \n",
       "\n",
       "  Apa jenis LAUK yang paling sering Anda makan di kantin?  \\\n",
       "0                                        Daging Sapi        \n",
       "1                                        Sosis/Telur        \n",
       "2                                        Daging Sapi        \n",
       "3                                               Ayam        \n",
       "4                                               Ayam        \n",
       "\n",
       "  Berapa banyak porsi anda jika mengonsumsi SAYURAN?  \\\n",
       "0                                             Sedang   \n",
       "1                                            Sedikit   \n",
       "2                                             Sedang   \n",
       "3                                            Sedikit   \n",
       "4                                            Sedikit   \n",
       "\n",
       "  Seberapa banyak porsi makan Anda dalam SATU HIDANGAN jika makan di kantin?  \\\n",
       "0                                             Banyak                           \n",
       "1                                            Sedikit                           \n",
       "2                                             Sedang                           \n",
       "3                                            Sedikit                           \n",
       "4                                             Sedang                           \n",
       "\n",
       "  Bagaimana RASA makanan di kantin 5 menurut anda?  \\\n",
       "0                                             Enak   \n",
       "1                                          Lumayan   \n",
       "2                                             Enak   \n",
       "3                                          Lumayan   \n",
       "4                                             Enak   \n",
       "\n",
       "  Apakah Anda ada KELUHAN dengan makanan yang disajikan di kantin 5? (Untuk Keluhan maksimal 3 kata)  \\\n",
       "0                                             Hambar                                                   \n",
       "1                                             Hambar                                                   \n",
       "2                                          Tidak ada                                                   \n",
       "3                                             Hambar                                                   \n",
       "4                                          Tidak ada                                                   \n",
       "\n",
       "   Menurut Anda seberapa HIGIENIS makanan yang ada di kantin 5?  \\\n",
       "0                                                  5              \n",
       "1                                                  4              \n",
       "2                                                  5              \n",
       "3                                                  5              \n",
       "4                                                  4              \n",
       "\n",
       "   Apakah Anda merasa HARGA makanan di kantin 5 terlalu mahal untuk kualitas dan porsi yang diberikan? Berikan kisaran harga yang sesuai dengan porsi makan anda  \\\n",
       "0                                              21000                                                                                                               \n",
       "1                                              18000                                                                                                               \n",
       "2                                              21000                                                                                                               \n",
       "3                                              21000                                                                                                               \n",
       "4                                              25000                                                                                                               \n",
       "\n",
       "   Apakah PELAYANAN di kantin 5 ramah dan memuaskan?  \\\n",
       "0                                                  5   \n",
       "1                                                  5   \n",
       "2                                                  5   \n",
       "3                                                  5   \n",
       "4                                                  4   \n",
       "\n",
       "   Apakah kantin 5 menyediakan MENU yang beragam dan sesuai dengan kebutuhan Anda?  \n",
       "0                                                  5                                \n",
       "1                                                  5                                \n",
       "2                                                  5                                \n",
       "3                                                  5                                \n",
       "4                                                  4                                "
      ]
     },
     "execution_count": 2,
     "metadata": {},
     "output_type": "execute_result"
    }
   ],
   "source": [
    "df = pd.read_excel('/content/Machine Learning (Jawaban) (1).xlsx')\n",
    "df.head()"
   ]
  },
  {
   "cell_type": "markdown",
   "metadata": {
    "id": "5xfjxBGs0Nk0"
   },
   "source": [
    "##**Data Cleaning**"
   ]
  },
  {
   "cell_type": "markdown",
   "metadata": {
    "id": "XICTYbqL0QWR"
   },
   "source": [
    "###**Mengubah nama kolom**"
   ]
  },
  {
   "cell_type": "code",
   "execution_count": 3,
   "metadata": {
    "id": "EppwIks9tifj"
   },
   "outputs": [],
   "source": [
    "# ubah nama kolom\n",
    "df.rename(columns={\"Seberapa banyak NASI untuk porsi Anda?\": \"porsi nasi\", \n",
    "                   \"Apa jenis LAUK yang paling sering Anda makan di kantin?\": \"jenis lauk\",\n",
    "                   \"Berapa banyak porsi anda jika mengonsumsi SAYURAN?\": \"porsi konsumsi sayuran\",\n",
    "                   \"Seberapa banyak porsi makan Anda dalam SATU HIDANGAN jika makan di kantin?\": \"porsi makan\",\n",
    "                   \"Bagaimana RASA makanan di kantin 5 menurut anda?\":\"rasa makanan\",\n",
    "                   \"Apakah Anda ada KELUHAN dengan makanan yang disajikan di kantin 5? (Untuk Keluhan maksimal 3 kata)\":\"keluhan\",\n",
    "                   \"Menurut Anda seberapa HIGIENIS makanan yang ada di kantin 5?\":\"higienis rate\",\n",
    "                   \"Apakah Anda merasa HARGA makanan di kantin 5 terlalu mahal untuk kualitas dan porsi yang diberikan? Berikan kisaran harga yang sesuai dengan porsi makan anda\":\"harga\",\n",
    "                   \"Apakah PELAYANAN di kantin 5 ramah dan memuaskan?\":\"pelayanan\",\n",
    "                   \"Apakah kantin 5 menyediakan MENU yang beragam dan sesuai dengan kebutuhan Anda?\":\"ketersediaan menu\"},\n",
    "          inplace=True)"
   ]
  },
  {
   "cell_type": "code",
   "execution_count": 4,
   "metadata": {
    "colab": {
     "base_uri": "https://localhost:8080/",
     "height": 337
    },
    "id": "CSgZOtyEzNK2",
    "outputId": "72e1e381-eb76-4973-c98c-41413cfbbbc8"
   },
   "outputs": [
    {
     "data": {
      "text/html": [
       "\n",
       "  <div id=\"df-958646e5-0379-407b-b7ae-ea8df23c5ffa\">\n",
       "    <div class=\"colab-df-container\">\n",
       "      <div>\n",
       "<style scoped>\n",
       "    .dataframe tbody tr th:only-of-type {\n",
       "        vertical-align: middle;\n",
       "    }\n",
       "\n",
       "    .dataframe tbody tr th {\n",
       "        vertical-align: top;\n",
       "    }\n",
       "\n",
       "    .dataframe thead th {\n",
       "        text-align: right;\n",
       "    }\n",
       "</style>\n",
       "<table border=\"1\" class=\"dataframe\">\n",
       "  <thead>\n",
       "    <tr style=\"text-align: right;\">\n",
       "      <th></th>\n",
       "      <th>Nama</th>\n",
       "      <th>porsi nasi</th>\n",
       "      <th>jenis lauk</th>\n",
       "      <th>porsi konsumsi sayuran</th>\n",
       "      <th>porsi makan</th>\n",
       "      <th>rasa makanan</th>\n",
       "      <th>keluhan</th>\n",
       "      <th>higienis rate</th>\n",
       "      <th>harga</th>\n",
       "      <th>pelayanan</th>\n",
       "      <th>ketersediaan menu</th>\n",
       "    </tr>\n",
       "  </thead>\n",
       "  <tbody>\n",
       "    <tr>\n",
       "      <th>0</th>\n",
       "      <td>kaita</td>\n",
       "      <td>Sedang</td>\n",
       "      <td>Daging Sapi</td>\n",
       "      <td>Sedang</td>\n",
       "      <td>Banyak</td>\n",
       "      <td>Enak</td>\n",
       "      <td>Hambar</td>\n",
       "      <td>5</td>\n",
       "      <td>21000</td>\n",
       "      <td>5</td>\n",
       "      <td>5</td>\n",
       "    </tr>\n",
       "    <tr>\n",
       "      <th>1</th>\n",
       "      <td>Ningrum</td>\n",
       "      <td>Sedikit</td>\n",
       "      <td>Sosis/Telur</td>\n",
       "      <td>Sedikit</td>\n",
       "      <td>Sedikit</td>\n",
       "      <td>Lumayan</td>\n",
       "      <td>Hambar</td>\n",
       "      <td>4</td>\n",
       "      <td>18000</td>\n",
       "      <td>5</td>\n",
       "      <td>5</td>\n",
       "    </tr>\n",
       "    <tr>\n",
       "      <th>2</th>\n",
       "      <td>Karin</td>\n",
       "      <td>Sedang</td>\n",
       "      <td>Daging Sapi</td>\n",
       "      <td>Sedang</td>\n",
       "      <td>Sedang</td>\n",
       "      <td>Enak</td>\n",
       "      <td>Tidak ada</td>\n",
       "      <td>5</td>\n",
       "      <td>21000</td>\n",
       "      <td>5</td>\n",
       "      <td>5</td>\n",
       "    </tr>\n",
       "    <tr>\n",
       "      <th>3</th>\n",
       "      <td>Rannum</td>\n",
       "      <td>Sedikit</td>\n",
       "      <td>Ayam</td>\n",
       "      <td>Sedikit</td>\n",
       "      <td>Sedikit</td>\n",
       "      <td>Lumayan</td>\n",
       "      <td>Hambar</td>\n",
       "      <td>5</td>\n",
       "      <td>21000</td>\n",
       "      <td>5</td>\n",
       "      <td>5</td>\n",
       "    </tr>\n",
       "    <tr>\n",
       "      <th>4</th>\n",
       "      <td>Lovish</td>\n",
       "      <td>Sedang</td>\n",
       "      <td>Ayam</td>\n",
       "      <td>Sedikit</td>\n",
       "      <td>Sedang</td>\n",
       "      <td>Enak</td>\n",
       "      <td>Tidak ada</td>\n",
       "      <td>4</td>\n",
       "      <td>25000</td>\n",
       "      <td>4</td>\n",
       "      <td>4</td>\n",
       "    </tr>\n",
       "  </tbody>\n",
       "</table>\n",
       "</div>\n",
       "      <button class=\"colab-df-convert\" onclick=\"convertToInteractive('df-958646e5-0379-407b-b7ae-ea8df23c5ffa')\"\n",
       "              title=\"Convert this dataframe to an interactive table.\"\n",
       "              style=\"display:none;\">\n",
       "        \n",
       "  <svg xmlns=\"http://www.w3.org/2000/svg\" height=\"24px\"viewBox=\"0 0 24 24\"\n",
       "       width=\"24px\">\n",
       "    <path d=\"M0 0h24v24H0V0z\" fill=\"none\"/>\n",
       "    <path d=\"M18.56 5.44l.94 2.06.94-2.06 2.06-.94-2.06-.94-.94-2.06-.94 2.06-2.06.94zm-11 1L8.5 8.5l.94-2.06 2.06-.94-2.06-.94L8.5 2.5l-.94 2.06-2.06.94zm10 10l.94 2.06.94-2.06 2.06-.94-2.06-.94-.94-2.06-.94 2.06-2.06.94z\"/><path d=\"M17.41 7.96l-1.37-1.37c-.4-.4-.92-.59-1.43-.59-.52 0-1.04.2-1.43.59L10.3 9.45l-7.72 7.72c-.78.78-.78 2.05 0 2.83L4 21.41c.39.39.9.59 1.41.59.51 0 1.02-.2 1.41-.59l7.78-7.78 2.81-2.81c.8-.78.8-2.07 0-2.86zM5.41 20L4 18.59l7.72-7.72 1.47 1.35L5.41 20z\"/>\n",
       "  </svg>\n",
       "      </button>\n",
       "      \n",
       "  <style>\n",
       "    .colab-df-container {\n",
       "      display:flex;\n",
       "      flex-wrap:wrap;\n",
       "      gap: 12px;\n",
       "    }\n",
       "\n",
       "    .colab-df-convert {\n",
       "      background-color: #E8F0FE;\n",
       "      border: none;\n",
       "      border-radius: 50%;\n",
       "      cursor: pointer;\n",
       "      display: none;\n",
       "      fill: #1967D2;\n",
       "      height: 32px;\n",
       "      padding: 0 0 0 0;\n",
       "      width: 32px;\n",
       "    }\n",
       "\n",
       "    .colab-df-convert:hover {\n",
       "      background-color: #E2EBFA;\n",
       "      box-shadow: 0px 1px 2px rgba(60, 64, 67, 0.3), 0px 1px 3px 1px rgba(60, 64, 67, 0.15);\n",
       "      fill: #174EA6;\n",
       "    }\n",
       "\n",
       "    [theme=dark] .colab-df-convert {\n",
       "      background-color: #3B4455;\n",
       "      fill: #D2E3FC;\n",
       "    }\n",
       "\n",
       "    [theme=dark] .colab-df-convert:hover {\n",
       "      background-color: #434B5C;\n",
       "      box-shadow: 0px 1px 3px 1px rgba(0, 0, 0, 0.15);\n",
       "      filter: drop-shadow(0px 1px 2px rgba(0, 0, 0, 0.3));\n",
       "      fill: #FFFFFF;\n",
       "    }\n",
       "  </style>\n",
       "\n",
       "      <script>\n",
       "        const buttonEl =\n",
       "          document.querySelector('#df-958646e5-0379-407b-b7ae-ea8df23c5ffa button.colab-df-convert');\n",
       "        buttonEl.style.display =\n",
       "          google.colab.kernel.accessAllowed ? 'block' : 'none';\n",
       "\n",
       "        async function convertToInteractive(key) {\n",
       "          const element = document.querySelector('#df-958646e5-0379-407b-b7ae-ea8df23c5ffa');\n",
       "          const dataTable =\n",
       "            await google.colab.kernel.invokeFunction('convertToInteractive',\n",
       "                                                     [key], {});\n",
       "          if (!dataTable) return;\n",
       "\n",
       "          const docLinkHtml = 'Like what you see? Visit the ' +\n",
       "            '<a target=\"_blank\" href=https://colab.research.google.com/notebooks/data_table.ipynb>data table notebook</a>'\n",
       "            + ' to learn more about interactive tables.';\n",
       "          element.innerHTML = '';\n",
       "          dataTable['output_type'] = 'display_data';\n",
       "          await google.colab.output.renderOutput(dataTable, element);\n",
       "          const docLink = document.createElement('div');\n",
       "          docLink.innerHTML = docLinkHtml;\n",
       "          element.appendChild(docLink);\n",
       "        }\n",
       "      </script>\n",
       "    </div>\n",
       "  </div>\n",
       "  "
      ],
      "text/plain": [
       "      Nama porsi nasi   jenis lauk porsi konsumsi sayuran porsi makan  \\\n",
       "0    kaita     Sedang  Daging Sapi                 Sedang      Banyak   \n",
       "1  Ningrum    Sedikit  Sosis/Telur                Sedikit     Sedikit   \n",
       "2    Karin     Sedang  Daging Sapi                 Sedang      Sedang   \n",
       "3   Rannum    Sedikit         Ayam                Sedikit     Sedikit   \n",
       "4   Lovish     Sedang         Ayam                Sedikit      Sedang   \n",
       "\n",
       "  rasa makanan    keluhan  higienis rate  harga  pelayanan  ketersediaan menu  \n",
       "0         Enak     Hambar              5  21000          5                  5  \n",
       "1      Lumayan     Hambar              4  18000          5                  5  \n",
       "2         Enak  Tidak ada              5  21000          5                  5  \n",
       "3      Lumayan     Hambar              5  21000          5                  5  \n",
       "4         Enak  Tidak ada              4  25000          4                  4  "
      ]
     },
     "execution_count": 4,
     "metadata": {},
     "output_type": "execute_result"
    }
   ],
   "source": [
    "df.head()"
   ]
  },
  {
   "cell_type": "markdown",
   "metadata": {
    "id": "IEUBqv37Zg6w"
   },
   "source": [
    "###**Drop Irrelevant Columns**"
   ]
  },
  {
   "cell_type": "markdown",
   "metadata": {
    "id": "13_oZ_FqUL09"
   },
   "source": [
    "Karena terdapat kolom yang tidak diperlukan, maka dari itu kita hapus terlebih dahulu kolom yang tidak diperlukan tersebut."
   ]
  },
  {
   "cell_type": "code",
   "execution_count": 5,
   "metadata": {
    "colab": {
     "base_uri": "https://localhost:8080/",
     "height": 337
    },
    "id": "rsCiLYUZocSv",
    "outputId": "5f67f438-24b8-4b5c-bc36-56a39e741270"
   },
   "outputs": [
    {
     "data": {
      "text/html": [
       "\n",
       "  <div id=\"df-63cd840c-9470-4434-adc9-87896cbc8332\">\n",
       "    <div class=\"colab-df-container\">\n",
       "      <div>\n",
       "<style scoped>\n",
       "    .dataframe tbody tr th:only-of-type {\n",
       "        vertical-align: middle;\n",
       "    }\n",
       "\n",
       "    .dataframe tbody tr th {\n",
       "        vertical-align: top;\n",
       "    }\n",
       "\n",
       "    .dataframe thead th {\n",
       "        text-align: right;\n",
       "    }\n",
       "</style>\n",
       "<table border=\"1\" class=\"dataframe\">\n",
       "  <thead>\n",
       "    <tr style=\"text-align: right;\">\n",
       "      <th></th>\n",
       "      <th>porsi nasi</th>\n",
       "      <th>jenis lauk</th>\n",
       "      <th>porsi konsumsi sayuran</th>\n",
       "      <th>porsi makan</th>\n",
       "      <th>rasa makanan</th>\n",
       "      <th>keluhan</th>\n",
       "      <th>higienis rate</th>\n",
       "      <th>harga</th>\n",
       "      <th>pelayanan</th>\n",
       "      <th>ketersediaan menu</th>\n",
       "    </tr>\n",
       "  </thead>\n",
       "  <tbody>\n",
       "    <tr>\n",
       "      <th>0</th>\n",
       "      <td>Sedang</td>\n",
       "      <td>Daging Sapi</td>\n",
       "      <td>Sedang</td>\n",
       "      <td>Banyak</td>\n",
       "      <td>Enak</td>\n",
       "      <td>Hambar</td>\n",
       "      <td>5</td>\n",
       "      <td>21000</td>\n",
       "      <td>5</td>\n",
       "      <td>5</td>\n",
       "    </tr>\n",
       "    <tr>\n",
       "      <th>1</th>\n",
       "      <td>Sedikit</td>\n",
       "      <td>Sosis/Telur</td>\n",
       "      <td>Sedikit</td>\n",
       "      <td>Sedikit</td>\n",
       "      <td>Lumayan</td>\n",
       "      <td>Hambar</td>\n",
       "      <td>4</td>\n",
       "      <td>18000</td>\n",
       "      <td>5</td>\n",
       "      <td>5</td>\n",
       "    </tr>\n",
       "    <tr>\n",
       "      <th>2</th>\n",
       "      <td>Sedang</td>\n",
       "      <td>Daging Sapi</td>\n",
       "      <td>Sedang</td>\n",
       "      <td>Sedang</td>\n",
       "      <td>Enak</td>\n",
       "      <td>Tidak ada</td>\n",
       "      <td>5</td>\n",
       "      <td>21000</td>\n",
       "      <td>5</td>\n",
       "      <td>5</td>\n",
       "    </tr>\n",
       "    <tr>\n",
       "      <th>3</th>\n",
       "      <td>Sedikit</td>\n",
       "      <td>Ayam</td>\n",
       "      <td>Sedikit</td>\n",
       "      <td>Sedikit</td>\n",
       "      <td>Lumayan</td>\n",
       "      <td>Hambar</td>\n",
       "      <td>5</td>\n",
       "      <td>21000</td>\n",
       "      <td>5</td>\n",
       "      <td>5</td>\n",
       "    </tr>\n",
       "    <tr>\n",
       "      <th>4</th>\n",
       "      <td>Sedang</td>\n",
       "      <td>Ayam</td>\n",
       "      <td>Sedikit</td>\n",
       "      <td>Sedang</td>\n",
       "      <td>Enak</td>\n",
       "      <td>Tidak ada</td>\n",
       "      <td>4</td>\n",
       "      <td>25000</td>\n",
       "      <td>4</td>\n",
       "      <td>4</td>\n",
       "    </tr>\n",
       "  </tbody>\n",
       "</table>\n",
       "</div>\n",
       "      <button class=\"colab-df-convert\" onclick=\"convertToInteractive('df-63cd840c-9470-4434-adc9-87896cbc8332')\"\n",
       "              title=\"Convert this dataframe to an interactive table.\"\n",
       "              style=\"display:none;\">\n",
       "        \n",
       "  <svg xmlns=\"http://www.w3.org/2000/svg\" height=\"24px\"viewBox=\"0 0 24 24\"\n",
       "       width=\"24px\">\n",
       "    <path d=\"M0 0h24v24H0V0z\" fill=\"none\"/>\n",
       "    <path d=\"M18.56 5.44l.94 2.06.94-2.06 2.06-.94-2.06-.94-.94-2.06-.94 2.06-2.06.94zm-11 1L8.5 8.5l.94-2.06 2.06-.94-2.06-.94L8.5 2.5l-.94 2.06-2.06.94zm10 10l.94 2.06.94-2.06 2.06-.94-2.06-.94-.94-2.06-.94 2.06-2.06.94z\"/><path d=\"M17.41 7.96l-1.37-1.37c-.4-.4-.92-.59-1.43-.59-.52 0-1.04.2-1.43.59L10.3 9.45l-7.72 7.72c-.78.78-.78 2.05 0 2.83L4 21.41c.39.39.9.59 1.41.59.51 0 1.02-.2 1.41-.59l7.78-7.78 2.81-2.81c.8-.78.8-2.07 0-2.86zM5.41 20L4 18.59l7.72-7.72 1.47 1.35L5.41 20z\"/>\n",
       "  </svg>\n",
       "      </button>\n",
       "      \n",
       "  <style>\n",
       "    .colab-df-container {\n",
       "      display:flex;\n",
       "      flex-wrap:wrap;\n",
       "      gap: 12px;\n",
       "    }\n",
       "\n",
       "    .colab-df-convert {\n",
       "      background-color: #E8F0FE;\n",
       "      border: none;\n",
       "      border-radius: 50%;\n",
       "      cursor: pointer;\n",
       "      display: none;\n",
       "      fill: #1967D2;\n",
       "      height: 32px;\n",
       "      padding: 0 0 0 0;\n",
       "      width: 32px;\n",
       "    }\n",
       "\n",
       "    .colab-df-convert:hover {\n",
       "      background-color: #E2EBFA;\n",
       "      box-shadow: 0px 1px 2px rgba(60, 64, 67, 0.3), 0px 1px 3px 1px rgba(60, 64, 67, 0.15);\n",
       "      fill: #174EA6;\n",
       "    }\n",
       "\n",
       "    [theme=dark] .colab-df-convert {\n",
       "      background-color: #3B4455;\n",
       "      fill: #D2E3FC;\n",
       "    }\n",
       "\n",
       "    [theme=dark] .colab-df-convert:hover {\n",
       "      background-color: #434B5C;\n",
       "      box-shadow: 0px 1px 3px 1px rgba(0, 0, 0, 0.15);\n",
       "      filter: drop-shadow(0px 1px 2px rgba(0, 0, 0, 0.3));\n",
       "      fill: #FFFFFF;\n",
       "    }\n",
       "  </style>\n",
       "\n",
       "      <script>\n",
       "        const buttonEl =\n",
       "          document.querySelector('#df-63cd840c-9470-4434-adc9-87896cbc8332 button.colab-df-convert');\n",
       "        buttonEl.style.display =\n",
       "          google.colab.kernel.accessAllowed ? 'block' : 'none';\n",
       "\n",
       "        async function convertToInteractive(key) {\n",
       "          const element = document.querySelector('#df-63cd840c-9470-4434-adc9-87896cbc8332');\n",
       "          const dataTable =\n",
       "            await google.colab.kernel.invokeFunction('convertToInteractive',\n",
       "                                                     [key], {});\n",
       "          if (!dataTable) return;\n",
       "\n",
       "          const docLinkHtml = 'Like what you see? Visit the ' +\n",
       "            '<a target=\"_blank\" href=https://colab.research.google.com/notebooks/data_table.ipynb>data table notebook</a>'\n",
       "            + ' to learn more about interactive tables.';\n",
       "          element.innerHTML = '';\n",
       "          dataTable['output_type'] = 'display_data';\n",
       "          await google.colab.output.renderOutput(dataTable, element);\n",
       "          const docLink = document.createElement('div');\n",
       "          docLink.innerHTML = docLinkHtml;\n",
       "          element.appendChild(docLink);\n",
       "        }\n",
       "      </script>\n",
       "    </div>\n",
       "  </div>\n",
       "  "
      ],
      "text/plain": [
       "  porsi nasi   jenis lauk porsi konsumsi sayuran porsi makan rasa makanan  \\\n",
       "0     Sedang  Daging Sapi                 Sedang      Banyak         Enak   \n",
       "1    Sedikit  Sosis/Telur                Sedikit     Sedikit      Lumayan   \n",
       "2     Sedang  Daging Sapi                 Sedang      Sedang         Enak   \n",
       "3    Sedikit         Ayam                Sedikit     Sedikit      Lumayan   \n",
       "4     Sedang         Ayam                Sedikit      Sedang         Enak   \n",
       "\n",
       "     keluhan  higienis rate  harga  pelayanan  ketersediaan menu  \n",
       "0     Hambar              5  21000          5                  5  \n",
       "1     Hambar              4  18000          5                  5  \n",
       "2  Tidak ada              5  21000          5                  5  \n",
       "3     Hambar              5  21000          5                  5  \n",
       "4  Tidak ada              4  25000          4                  4  "
      ]
     },
     "execution_count": 5,
     "metadata": {},
     "output_type": "execute_result"
    }
   ],
   "source": [
    "df = df.drop(columns = ['Nama'])\n",
    "df.head()"
   ]
  },
  {
   "cell_type": "markdown",
   "metadata": {
    "id": "6eGS-YgW1mGO"
   },
   "source": [
    "##**Eksploratory Data Analysis**"
   ]
  },
  {
   "cell_type": "code",
   "execution_count": 6,
   "metadata": {
    "colab": {
     "base_uri": "https://localhost:8080/"
    },
    "id": "IcPVLTYcThLh",
    "outputId": "16ce32a0-0fae-4d91-80b8-bb6c04bf7285"
   },
   "outputs": [
    {
     "name": "stdout",
     "output_type": "stream",
     "text": [
      "<class 'pandas.core.frame.DataFrame'>\n",
      "RangeIndex: 304 entries, 0 to 303\n",
      "Data columns (total 10 columns):\n",
      " #   Column                  Non-Null Count  Dtype \n",
      "---  ------                  --------------  ----- \n",
      " 0   porsi nasi              304 non-null    object\n",
      " 1   jenis lauk              304 non-null    object\n",
      " 2   porsi konsumsi sayuran  304 non-null    object\n",
      " 3   porsi makan             304 non-null    object\n",
      " 4   rasa makanan            304 non-null    object\n",
      " 5   keluhan                 304 non-null    object\n",
      " 6   higienis rate           304 non-null    int64 \n",
      " 7   harga                   304 non-null    int64 \n",
      " 8   pelayanan               304 non-null    int64 \n",
      " 9   ketersediaan menu       304 non-null    int64 \n",
      "dtypes: int64(4), object(6)\n",
      "memory usage: 23.9+ KB\n"
     ]
    }
   ],
   "source": [
    "# Melihat informasi pada data\n",
    "df.info()"
   ]
  },
  {
   "cell_type": "markdown",
   "metadata": {
    "id": "5TBCIlWY2v6R"
   },
   "source": [
    "Terdapat data yang bertipe object sehingga nanti akan dilakukan encoding untuk mengkonversi data object menjadi numerik"
   ]
  },
  {
   "cell_type": "code",
   "execution_count": 7,
   "metadata": {
    "colab": {
     "base_uri": "https://localhost:8080/"
    },
    "id": "JddoauILTmcc",
    "outputId": "92902391-4f96-4733-c762-2ff6e90a4645"
   },
   "outputs": [
    {
     "data": {
      "text/plain": [
       "(304, 10)"
      ]
     },
     "execution_count": 7,
     "metadata": {},
     "output_type": "execute_result"
    }
   ],
   "source": [
    "# Melihat dimensi data\n",
    "df.shape"
   ]
  },
  {
   "cell_type": "markdown",
   "metadata": {
    "id": "WDS1edoH3BCJ"
   },
   "source": [
    "Terdapat 304 baris dan 10 kolom"
   ]
  },
  {
   "cell_type": "markdown",
   "metadata": {
    "id": "RHtqX5yQ1pdj"
   },
   "source": [
    "###**Cek Missing Value**"
   ]
  },
  {
   "cell_type": "code",
   "execution_count": 8,
   "metadata": {
    "colab": {
     "base_uri": "https://localhost:8080/"
    },
    "id": "xC48YXv7pcle",
    "outputId": "8e3c274b-45e5-4874-dca8-1d7055991be3"
   },
   "outputs": [
    {
     "data": {
      "text/plain": [
       "porsi nasi                0\n",
       "jenis lauk                0\n",
       "porsi konsumsi sayuran    0\n",
       "porsi makan               0\n",
       "rasa makanan              0\n",
       "keluhan                   0\n",
       "higienis rate             0\n",
       "harga                     0\n",
       "pelayanan                 0\n",
       "ketersediaan menu         0\n",
       "dtype: int64"
      ]
     },
     "execution_count": 8,
     "metadata": {},
     "output_type": "execute_result"
    }
   ],
   "source": [
    "df.isna().sum()"
   ]
  },
  {
   "cell_type": "code",
   "execution_count": 9,
   "metadata": {
    "colab": {
     "base_uri": "https://localhost:8080/",
     "height": 597
    },
    "id": "rxjXudj-m7CI",
    "outputId": "ae4ba767-85af-4b42-c088-1deba8c57148"
   },
   "outputs": [
    {
     "data": {
      "text/plain": [
       "<Axes: >"
      ]
     },
     "execution_count": 9,
     "metadata": {},
     "output_type": "execute_result"
    },
    {
     "data": {
      "image/png": "[encoded data removed]",
      "text/plain": [
       "<Figure size 640x480 with 1 Axes>"
      ]
     },
     "metadata": {},
     "output_type": "display_data"
    }
   ],
   "source": [
    "#Menyajikan visualisasi data\n",
    "sns.heatmap(df.isnull(), cbar = False, yticklabels = False, cmap = 'viridis')"
   ]
  },
  {
   "cell_type": "markdown",
   "metadata": {
    "id": "4w2DT6h_Nyet"
   },
   "source": [
    "Bisa kita lihat bahwa pada dataset tersebut tidak terdapat missing value."
   ]
  },
  {
   "cell_type": "markdown",
   "metadata": {
    "id": "goqXzmRP2Cmv"
   },
   "source": [
    "###**Cek Kondisi Data Target**"
   ]
  },
  {
   "cell_type": "code",
   "execution_count": 11,
   "metadata": {
    "colab": {
     "base_uri": "https://localhost:8080/"
    },
    "id": "P4WVlBIKqBq-",
    "outputId": "b5d0360e-5609-4892-827a-9895a08df39b"
   },
   "outputs": [
    {
     "data": {
      "text/plain": [
       "25000    224\n",
       "21000     57\n",
       "18000     23\n",
       "Name: harga, dtype: int64"
      ]
     },
     "execution_count": 11,
     "metadata": {},
     "output_type": "execute_result"
    }
   ],
   "source": [
    "df['harga'].value_counts()"
   ]
  },
  {
   "cell_type": "code",
   "execution_count": 13,
   "metadata": {
    "colab": {
     "base_uri": "https://localhost:8080/",
     "height": 465
    },
    "id": "uo6Fzq51j6s8",
    "outputId": "b71e63ee-d7fa-4885-8771-c1b657c66b95"
   },
   "outputs": [
    {
     "data": {
      "image/png": "[encoded data removed]",
      "text/plain": [
       "<Figure size 500x500 with 1 Axes>"
      ]
     },
     "metadata": {},
     "output_type": "display_data"
    }
   ],
   "source": [
    "#Melihat keseimbangan data menggunakan diagram batang\n",
    "plt.figure(figsize=(5,5))\n",
    "colors = ['Red','Blue']\n",
    "sns.countplot(x='harga', data=df, palette=colors)\n",
    "plt.show()"
   ]
  },
  {
   "cell_type": "markdown",
   "metadata": {
    "id": "cTbEFhZqksvG"
   },
   "source": [
    "Dari gambar di atas jelas bahwa distribusi data pada kelas-kelas di data target (harga) tidak seimbang. Lebih bagus jika setiap kelas distribusinya hampir sama atau seimbang."
   ]
  },
  {
   "cell_type": "markdown",
   "metadata": {
    "id": "reK80OpMUv9f"
   },
   "source": [
    "##**Preprocesing Data**"
   ]
  },
  {
   "cell_type": "markdown",
   "metadata": {
    "id": "8yMXSOxjTy2R"
   },
   "source": [
    "###**Encoding Data**"
   ]
  },
  {
   "cell_type": "code",
   "execution_count": 23,
   "metadata": {
    "colab": {
     "base_uri": "https://localhost:8080/",
     "height": 267
    },
    "id": "oN5TB6kYT1gp",
    "outputId": "f5a21de6-89ec-4685-8aca-ace41ccb6d4e"
   },
   "outputs": [
    {
     "data": {
      "text/html": [
       "\n",
       "  <div id=\"df-108fad4f-27a1-4ba1-9ee9-0f7731d70aaa\">\n",
       "    <div class=\"colab-df-container\">\n",
       "      <div>\n",
       "<style scoped>\n",
       "    .dataframe tbody tr th:only-of-type {\n",
       "        vertical-align: middle;\n",
       "    }\n",
       "\n",
       "    .dataframe tbody tr th {\n",
       "        vertical-align: top;\n",
       "    }\n",
       "\n",
       "    .dataframe thead th {\n",
       "        text-align: right;\n",
       "    }\n",
       "</style>\n",
       "<table border=\"1\" class=\"dataframe\">\n",
       "  <thead>\n",
       "    <tr style=\"text-align: right;\">\n",
       "      <th></th>\n",
       "      <th>porsi nasi</th>\n",
       "      <th>jenis lauk</th>\n",
       "      <th>porsi konsumsi sayuran</th>\n",
       "      <th>porsi makan</th>\n",
       "      <th>rasa makanan</th>\n",
       "      <th>keluhan</th>\n",
       "      <th>higienis rate</th>\n",
       "      <th>harga</th>\n",
       "      <th>pelayanan</th>\n",
       "      <th>ketersediaan menu</th>\n",
       "    </tr>\n",
       "  </thead>\n",
       "  <tbody>\n",
       "    <tr>\n",
       "      <th>0</th>\n",
       "      <td>1</td>\n",
       "      <td>1</td>\n",
       "      <td>1</td>\n",
       "      <td>0</td>\n",
       "      <td>0</td>\n",
       "      <td>2</td>\n",
       "      <td>5</td>\n",
       "      <td>1</td>\n",
       "      <td>5</td>\n",
       "      <td>5</td>\n",
       "    </tr>\n",
       "    <tr>\n",
       "      <th>1</th>\n",
       "      <td>2</td>\n",
       "      <td>2</td>\n",
       "      <td>2</td>\n",
       "      <td>2</td>\n",
       "      <td>1</td>\n",
       "      <td>2</td>\n",
       "      <td>4</td>\n",
       "      <td>0</td>\n",
       "      <td>5</td>\n",
       "      <td>5</td>\n",
       "    </tr>\n",
       "    <tr>\n",
       "      <th>2</th>\n",
       "      <td>1</td>\n",
       "      <td>1</td>\n",
       "      <td>1</td>\n",
       "      <td>1</td>\n",
       "      <td>0</td>\n",
       "      <td>5</td>\n",
       "      <td>5</td>\n",
       "      <td>1</td>\n",
       "      <td>5</td>\n",
       "      <td>5</td>\n",
       "    </tr>\n",
       "    <tr>\n",
       "      <th>3</th>\n",
       "      <td>2</td>\n",
       "      <td>0</td>\n",
       "      <td>2</td>\n",
       "      <td>2</td>\n",
       "      <td>1</td>\n",
       "      <td>2</td>\n",
       "      <td>5</td>\n",
       "      <td>1</td>\n",
       "      <td>5</td>\n",
       "      <td>5</td>\n",
       "    </tr>\n",
       "    <tr>\n",
       "      <th>4</th>\n",
       "      <td>1</td>\n",
       "      <td>0</td>\n",
       "      <td>2</td>\n",
       "      <td>1</td>\n",
       "      <td>0</td>\n",
       "      <td>5</td>\n",
       "      <td>4</td>\n",
       "      <td>2</td>\n",
       "      <td>4</td>\n",
       "      <td>4</td>\n",
       "    </tr>\n",
       "  </tbody>\n",
       "</table>\n",
       "</div>\n",
       "      <button class=\"colab-df-convert\" onclick=\"convertToInteractive('df-108fad4f-27a1-4ba1-9ee9-0f7731d70aaa')\"\n",
       "              title=\"Convert this dataframe to an interactive table.\"\n",
       "              style=\"display:none;\">\n",
       "        \n",
       "  <svg xmlns=\"http://www.w3.org/2000/svg\" height=\"24px\"viewBox=\"0 0 24 24\"\n",
       "       width=\"24px\">\n",
       "    <path d=\"M0 0h24v24H0V0z\" fill=\"none\"/>\n",
       "    <path d=\"M18.56 5.44l.94 2.06.94-2.06 2.06-.94-2.06-.94-.94-2.06-.94 2.06-2.06.94zm-11 1L8.5 8.5l.94-2.06 2.06-.94-2.06-.94L8.5 2.5l-.94 2.06-2.06.94zm10 10l.94 2.06.94-2.06 2.06-.94-2.06-.94-.94-2.06-.94 2.06-2.06.94z\"/><path d=\"M17.41 7.96l-1.37-1.37c-.4-.4-.92-.59-1.43-.59-.52 0-1.04.2-1.43.59L10.3 9.45l-7.72 7.72c-.78.78-.78 2.05 0 2.83L4 21.41c.39.39.9.59 1.41.59.51 0 1.02-.2 1.41-.59l7.78-7.78 2.81-2.81c.8-.78.8-2.07 0-2.86zM5.41 20L4 18.59l7.72-7.72 1.47 1.35L5.41 20z\"/>\n",
       "  </svg>\n",
       "      </button>\n",
       "      \n",
       "  <style>\n",
       "    .colab-df-container {\n",
       "      display:flex;\n",
       "      flex-wrap:wrap;\n",
       "      gap: 12px;\n",
       "    }\n",
       "\n",
       "    .colab-df-convert {\n",
       "      background-color: #E8F0FE;\n",
       "      border: none;\n",
       "      border-radius: 50%;\n",
       "      cursor: pointer;\n",
       "      display: none;\n",
       "      fill: #1967D2;\n",
       "      height: 32px;\n",
       "      padding: 0 0 0 0;\n",
       "      width: 32px;\n",
       "    }\n",
       "\n",
       "    .colab-df-convert:hover {\n",
       "      background-color: #E2EBFA;\n",
       "      box-shadow: 0px 1px 2px rgba(60, 64, 67, 0.3), 0px 1px 3px 1px rgba(60, 64, 67, 0.15);\n",
       "      fill: #174EA6;\n",
       "    }\n",
       "\n",
       "    [theme=dark] .colab-df-convert {\n",
       "      background-color: #3B4455;\n",
       "      fill: #D2E3FC;\n",
       "    }\n",
       "\n",
       "    [theme=dark] .colab-df-convert:hover {\n",
       "      background-color: #434B5C;\n",
       "      box-shadow: 0px 1px 3px 1px rgba(0, 0, 0, 0.15);\n",
       "      filter: drop-shadow(0px 1px 2px rgba(0, 0, 0, 0.3));\n",
       "      fill: #FFFFFF;\n",
       "    }\n",
       "  </style>\n",
       "\n",
       "      <script>\n",
       "        const buttonEl =\n",
       "          document.querySelector('#df-108fad4f-27a1-4ba1-9ee9-0f7731d70aaa button.colab-df-convert');\n",
       "        buttonEl.style.display =\n",
       "          google.colab.kernel.accessAllowed ? 'block' : 'none';\n",
       "\n",
       "        async function convertToInteractive(key) {\n",
       "          const element = document.querySelector('#df-108fad4f-27a1-4ba1-9ee9-0f7731d70aaa');\n",
       "          const dataTable =\n",
       "            await google.colab.kernel.invokeFunction('convertToInteractive',\n",
       "                                                     [key], {});\n",
       "          if (!dataTable) return;\n",
       "\n",
       "          const docLinkHtml = 'Like what you see? Visit the ' +\n",
       "            '<a target=\"_blank\" href=https://colab.research.google.com/notebooks/data_table.ipynb>data table notebook</a>'\n",
       "            + ' to learn more about interactive tables.';\n",
       "          element.innerHTML = '';\n",
       "          dataTable['output_type'] = 'display_data';\n",
       "          await google.colab.output.renderOutput(dataTable, element);\n",
       "          const docLink = document.createElement('div');\n",
       "          docLink.innerHTML = docLinkHtml;\n",
       "          element.appendChild(docLink);\n",
       "        }\n",
       "      </script>\n",
       "    </div>\n",
       "  </div>\n",
       "  "
      ],
      "text/plain": [
       "   porsi nasi  jenis lauk  porsi konsumsi sayuran  porsi makan  rasa makanan  \\\n",
       "0           1           1                       1            0             0   \n",
       "1           2           2                       2            2             1   \n",
       "2           1           1                       1            1             0   \n",
       "3           2           0                       2            2             1   \n",
       "4           1           0                       2            1             0   \n",
       "\n",
       "   keluhan  higienis rate  harga  pelayanan  ketersediaan menu  \n",
       "0        2              5      1          5                  5  \n",
       "1        2              4      0          5                  5  \n",
       "2        5              5      1          5                  5  \n",
       "3        2              5      1          5                  5  \n",
       "4        5              4      2          4                  4  "
      ]
     },
     "execution_count": 23,
     "metadata": {},
     "output_type": "execute_result"
    }
   ],
   "source": [
    "# Konversi tipe object ke numerik\n",
    "df['porsi nasi'] = df['porsi nasi'].astype('category')\n",
    "df['jenis lauk'] = df['jenis lauk'].astype('category')\n",
    "df['porsi konsumsi sayuran'] = df['porsi konsumsi sayuran'].astype('category')\n",
    "df['porsi makan'] = df['porsi makan'].astype('category')\n",
    "df['rasa makanan'] = df['rasa makanan'].astype('category')\n",
    "df['keluhan'] = df['keluhan'].astype('category')\n",
    "df['harga'] = df['harga'].astype('category')\n",
    "\n",
    "# Melakukan encode\n",
    "df['porsi nasi'] = df['porsi nasi'].cat.codes\n",
    "df['jenis lauk'] = df['jenis lauk'].cat.codes\n",
    "df['porsi konsumsi sayuran'] = df['porsi konsumsi sayuran'].cat.codes\n",
    "df['porsi makan'] = df['porsi makan'].cat.codes\n",
    "df['rasa makanan'] = df['rasa makanan'].cat.codes\n",
    "df['keluhan'] = df['keluhan'].cat.codes\n",
    "df['harga'] = df['harga'].cat.codes\n",
    "df.head()"
   ]
  },
  {
   "cell_type": "markdown",
   "metadata": {
    "id": "yGSyl3nmDc-L"
   },
   "source": [
    "Ketetangan label harga :\n",
    "\n",
    "*   0 = 18000\n",
    "*   1 = 21000\n",
    "*   2 = 25000\n",
    "\n"
   ]
  },
  {
   "cell_type": "markdown",
   "metadata": {
    "id": "uCTXajVLZ7ad"
   },
   "source": [
    "###**Normalisasi Data**"
   ]
  },
  {
   "cell_type": "code",
   "execution_count": 24,
   "metadata": {
    "colab": {
     "base_uri": "https://localhost:8080/",
     "height": 285
    },
    "id": "z7EMvZbLqkTK",
    "outputId": "aaf42a92-478d-452d-e4fa-195ae3b5092c"
   },
   "outputs": [
    {
     "data": {
      "text/html": [
       "\n",
       "  <div id=\"df-6225d508-2b90-4c59-90b8-76c6890733c1\">\n",
       "    <div class=\"colab-df-container\">\n",
       "      <div>\n",
       "<style scoped>\n",
       "    .dataframe tbody tr th:only-of-type {\n",
       "        vertical-align: middle;\n",
       "    }\n",
       "\n",
       "    .dataframe tbody tr th {\n",
       "        vertical-align: top;\n",
       "    }\n",
       "\n",
       "    .dataframe thead th {\n",
       "        text-align: right;\n",
       "    }\n",
       "</style>\n",
       "<table border=\"1\" class=\"dataframe\">\n",
       "  <thead>\n",
       "    <tr style=\"text-align: right;\">\n",
       "      <th></th>\n",
       "      <th>porsi nasi</th>\n",
       "      <th>jenis lauk</th>\n",
       "      <th>porsi konsumsi sayuran</th>\n",
       "      <th>porsi makan</th>\n",
       "      <th>rasa makanan</th>\n",
       "      <th>keluhan</th>\n",
       "      <th>higienis rate</th>\n",
       "      <th>harga</th>\n",
       "      <th>pelayanan</th>\n",
       "      <th>ketersediaan menu</th>\n",
       "    </tr>\n",
       "  </thead>\n",
       "  <tbody>\n",
       "    <tr>\n",
       "      <th>0</th>\n",
       "      <td>0.5</td>\n",
       "      <td>0.5</td>\n",
       "      <td>0.5</td>\n",
       "      <td>0.0</td>\n",
       "      <td>0.0</td>\n",
       "      <td>0.285714</td>\n",
       "      <td>1.00</td>\n",
       "      <td>0.5</td>\n",
       "      <td>1.000000</td>\n",
       "      <td>1.000000</td>\n",
       "    </tr>\n",
       "    <tr>\n",
       "      <th>1</th>\n",
       "      <td>1.0</td>\n",
       "      <td>1.0</td>\n",
       "      <td>1.0</td>\n",
       "      <td>1.0</td>\n",
       "      <td>0.5</td>\n",
       "      <td>0.285714</td>\n",
       "      <td>0.75</td>\n",
       "      <td>0.0</td>\n",
       "      <td>1.000000</td>\n",
       "      <td>1.000000</td>\n",
       "    </tr>\n",
       "    <tr>\n",
       "      <th>2</th>\n",
       "      <td>0.5</td>\n",
       "      <td>0.5</td>\n",
       "      <td>0.5</td>\n",
       "      <td>0.5</td>\n",
       "      <td>0.0</td>\n",
       "      <td>0.714286</td>\n",
       "      <td>1.00</td>\n",
       "      <td>0.5</td>\n",
       "      <td>1.000000</td>\n",
       "      <td>1.000000</td>\n",
       "    </tr>\n",
       "    <tr>\n",
       "      <th>3</th>\n",
       "      <td>1.0</td>\n",
       "      <td>0.0</td>\n",
       "      <td>1.0</td>\n",
       "      <td>1.0</td>\n",
       "      <td>0.5</td>\n",
       "      <td>0.285714</td>\n",
       "      <td>1.00</td>\n",
       "      <td>0.5</td>\n",
       "      <td>1.000000</td>\n",
       "      <td>1.000000</td>\n",
       "    </tr>\n",
       "    <tr>\n",
       "      <th>4</th>\n",
       "      <td>0.5</td>\n",
       "      <td>0.0</td>\n",
       "      <td>1.0</td>\n",
       "      <td>0.5</td>\n",
       "      <td>0.0</td>\n",
       "      <td>0.714286</td>\n",
       "      <td>0.75</td>\n",
       "      <td>1.0</td>\n",
       "      <td>0.666667</td>\n",
       "      <td>0.666667</td>\n",
       "    </tr>\n",
       "  </tbody>\n",
       "</table>\n",
       "</div>\n",
       "      <button class=\"colab-df-convert\" onclick=\"convertToInteractive('df-6225d508-2b90-4c59-90b8-76c6890733c1')\"\n",
       "              title=\"Convert this dataframe to an interactive table.\"\n",
       "              style=\"display:none;\">\n",
       "        \n",
       "  <svg xmlns=\"http://www.w3.org/2000/svg\" height=\"24px\"viewBox=\"0 0 24 24\"\n",
       "       width=\"24px\">\n",
       "    <path d=\"M0 0h24v24H0V0z\" fill=\"none\"/>\n",
       "    <path d=\"M18.56 5.44l.94 2.06.94-2.06 2.06-.94-2.06-.94-.94-2.06-.94 2.06-2.06.94zm-11 1L8.5 8.5l.94-2.06 2.06-.94-2.06-.94L8.5 2.5l-.94 2.06-2.06.94zm10 10l.94 2.06.94-2.06 2.06-.94-2.06-.94-.94-2.06-.94 2.06-2.06.94z\"/><path d=\"M17.41 7.96l-1.37-1.37c-.4-.4-.92-.59-1.43-.59-.52 0-1.04.2-1.43.59L10.3 9.45l-7.72 7.72c-.78.78-.78 2.05 0 2.83L4 21.41c.39.39.9.59 1.41.59.51 0 1.02-.2 1.41-.59l7.78-7.78 2.81-2.81c.8-.78.8-2.07 0-2.86zM5.41 20L4 18.59l7.72-7.72 1.47 1.35L5.41 20z\"/>\n",
       "  </svg>\n",
       "      </button>\n",
       "      \n",
       "  <style>\n",
       "    .colab-df-container {\n",
       "      display:flex;\n",
       "      flex-wrap:wrap;\n",
       "      gap: 12px;\n",
       "    }\n",
       "\n",
       "    .colab-df-convert {\n",
       "      background-color: #E8F0FE;\n",
       "      border: none;\n",
       "      border-radius: 50%;\n",
       "      cursor: pointer;\n",
       "      display: none;\n",
       "      fill: #1967D2;\n",
       "      height: 32px;\n",
       "      padding: 0 0 0 0;\n",
       "      width: 32px;\n",
       "    }\n",
       "\n",
       "    .colab-df-convert:hover {\n",
       "      background-color: #E2EBFA;\n",
       "      box-shadow: 0px 1px 2px rgba(60, 64, 67, 0.3), 0px 1px 3px 1px rgba(60, 64, 67, 0.15);\n",
       "      fill: #174EA6;\n",
       "    }\n",
       "\n",
       "    [theme=dark] .colab-df-convert {\n",
       "      background-color: #3B4455;\n",
       "      fill: #D2E3FC;\n",
       "    }\n",
       "\n",
       "    [theme=dark] .colab-df-convert:hover {\n",
       "      background-color: #434B5C;\n",
       "      box-shadow: 0px 1px 3px 1px rgba(0, 0, 0, 0.15);\n",
       "      filter: drop-shadow(0px 1px 2px rgba(0, 0, 0, 0.3));\n",
       "      fill: #FFFFFF;\n",
       "    }\n",
       "  </style>\n",
       "\n",
       "      <script>\n",
       "        const buttonEl =\n",
       "          document.querySelector('#df-6225d508-2b90-4c59-90b8-76c6890733c1 button.colab-df-convert');\n",
       "        buttonEl.style.display =\n",
       "          google.colab.kernel.accessAllowed ? 'block' : 'none';\n",
       "\n",
       "        async function convertToInteractive(key) {\n",
       "          const element = document.querySelector('#df-6225d508-2b90-4c59-90b8-76c6890733c1');\n",
       "          const dataTable =\n",
       "            await google.colab.kernel.invokeFunction('convertToInteractive',\n",
       "                                                     [key], {});\n",
       "          if (!dataTable) return;\n",
       "\n",
       "          const docLinkHtml = 'Like what you see? Visit the ' +\n",
       "            '<a target=\"_blank\" href=https://colab.research.google.com/notebooks/data_table.ipynb>data table notebook</a>'\n",
       "            + ' to learn more about interactive tables.';\n",
       "          element.innerHTML = '';\n",
       "          dataTable['output_type'] = 'display_data';\n",
       "          await google.colab.output.renderOutput(dataTable, element);\n",
       "          const docLink = document.createElement('div');\n",
       "          docLink.innerHTML = docLinkHtml;\n",
       "          element.appendChild(docLink);\n",
       "        }\n",
       "      </script>\n",
       "    </div>\n",
       "  </div>\n",
       "  "
      ],
      "text/plain": [
       "   porsi nasi  jenis lauk  porsi konsumsi sayuran  porsi makan  rasa makanan  \\\n",
       "0         0.5         0.5                     0.5          0.0           0.0   \n",
       "1         1.0         1.0                     1.0          1.0           0.5   \n",
       "2         0.5         0.5                     0.5          0.5           0.0   \n",
       "3         1.0         0.0                     1.0          1.0           0.5   \n",
       "4         0.5         0.0                     1.0          0.5           0.0   \n",
       "\n",
       "    keluhan  higienis rate  harga  pelayanan  ketersediaan menu  \n",
       "0  0.285714           1.00    0.5   1.000000           1.000000  \n",
       "1  0.285714           0.75    0.0   1.000000           1.000000  \n",
       "2  0.714286           1.00    0.5   1.000000           1.000000  \n",
       "3  0.285714           1.00    0.5   1.000000           1.000000  \n",
       "4  0.714286           0.75    1.0   0.666667           0.666667  "
      ]
     },
     "execution_count": 24,
     "metadata": {},
     "output_type": "execute_result"
    }
   ],
   "source": [
    "#Normalisasi data dengan MinMaxScaler\n",
    "scaler = MinMaxScaler()\n",
    "df_norm = pd.DataFrame(scaler.fit_transform(df), columns = df.columns)\n",
    "\n",
    "df_norm.head()"
   ]
  },
  {
   "cell_type": "markdown",
   "metadata": {
    "id": "pVKFZ4mRdHQu"
   },
   "source": [
    "###**Split Dataset**"
   ]
  },
  {
   "cell_type": "code",
   "execution_count": 33,
   "metadata": {
    "id": "Fa6Fe4P9UMJH"
   },
   "outputs": [],
   "source": [
    "# Menentukan variabel independent dan dependent\n",
    "y = df['harga']\n",
    "X = df_norm.drop(columns=['harga'])"
   ]
  },
  {
   "cell_type": "code",
   "execution_count": 46,
   "metadata": {
    "id": "3WOacPd0xryY"
   },
   "outputs": [],
   "source": [
    "X_train, X_test, y_train, y_test = train_test_split(X, y, test_size = 0.2, random_state = 0)"
   ]
  },
  {
   "cell_type": "code",
   "execution_count": 47,
   "metadata": {
    "colab": {
     "base_uri": "https://localhost:8080/"
    },
    "id": "oO9aKl9cRruK",
    "outputId": "a6bdf335-714c-4240-eb4b-14719e7da721"
   },
   "outputs": [
    {
     "name": "stdout",
     "output_type": "stream",
     "text": [
      "Jumlah data traing adalah: 243\n",
      "Jumlah data testing adalah: 61\n"
     ]
    }
   ],
   "source": [
    "print('Jumlah data traing adalah:', len(X_train))\n",
    "print('Jumlah data testing adalah:', len(X_test))"
   ]
  },
  {
   "cell_type": "markdown",
   "metadata": {
    "id": "oZvDt0lEbEsM"
   },
   "source": [
    "##**Modelling**"
   ]
  },
  {
   "cell_type": "markdown",
   "metadata": {
    "id": "DmvzLjcjEhVk"
   },
   "source": [
    "###**Klasifikasi menggunakan metode SVM**"
   ]
  },
  {
   "cell_type": "code",
   "execution_count": 48,
   "metadata": {
    "colab": {
     "base_uri": "https://localhost:8080/",
     "height": 74
    },
    "id": "GWOoVAp_bHLL",
    "outputId": "c17772eb-aebc-43fb-f1bb-84cb34122d93"
   },
   "outputs": [
    {
     "data": {
      "text/html": [
       "<style>#sk-container-id-5 {color: black;background-color: white;}#sk-container-id-5 pre{padding: 0;}#sk-container-id-5 div.sk-toggleable {background-color: white;}#sk-container-id-5 label.sk-toggleable__label {cursor: pointer;display: block;width: 100%;margin-bottom: 0;padding: 0.3em;box-sizing: border-box;text-align: center;}#sk-container-id-5 label.sk-toggleable__label-arrow:before {content: \"▸\";float: left;margin-right: 0.25em;color: #696969;}#sk-container-id-5 label.sk-toggleable__label-arrow:hover:before {color: black;}#sk-container-id-5 div.sk-estimator:hover label.sk-toggleable__label-arrow:before {color: black;}#sk-container-id-5 div.sk-toggleable__content {max-height: 0;max-width: 0;overflow: hidden;text-align: left;background-color: #f0f8ff;}#sk-container-id-5 div.sk-toggleable__content pre {margin: 0.2em;color: black;border-radius: 0.25em;background-color: #f0f8ff;}#sk-container-id-5 input.sk-toggleable__control:checked~div.sk-toggleable__content {max-height: 200px;max-width: 100%;overflow: auto;}#sk-container-id-5 input.sk-toggleable__control:checked~label.sk-toggleable__label-arrow:before {content: \"▾\";}#sk-container-id-5 div.sk-estimator input.sk-toggleable__control:checked~label.sk-toggleable__label {background-color: #d4ebff;}#sk-container-id-5 div.sk-label input.sk-toggleable__control:checked~label.sk-toggleable__label {background-color: #d4ebff;}#sk-container-id-5 input.sk-hidden--visually {border: 0;clip: rect(1px 1px 1px 1px);clip: rect(1px, 1px, 1px, 1px);height: 1px;margin: -1px;overflow: hidden;padding: 0;position: absolute;width: 1px;}#sk-container-id-5 div.sk-estimator {font-family: monospace;background-color: #f0f8ff;border: 1px dotted black;border-radius: 0.25em;box-sizing: border-box;margin-bottom: 0.5em;}#sk-container-id-5 div.sk-estimator:hover {background-color: #d4ebff;}#sk-container-id-5 div.sk-parallel-item::after {content: \"\";width: 100%;border-bottom: 1px solid gray;flex-grow: 1;}#sk-container-id-5 div.sk-label:hover label.sk-toggleable__label {background-color: #d4ebff;}#sk-container-id-5 div.sk-serial::before {content: \"\";position: absolute;border-left: 1px solid gray;box-sizing: border-box;top: 0;bottom: 0;left: 50%;z-index: 0;}#sk-container-id-5 div.sk-serial {display: flex;flex-direction: column;align-items: center;background-color: white;padding-right: 0.2em;padding-left: 0.2em;position: relative;}#sk-container-id-5 div.sk-item {position: relative;z-index: 1;}#sk-container-id-5 div.sk-parallel {display: flex;align-items: stretch;justify-content: center;background-color: white;position: relative;}#sk-container-id-5 div.sk-item::before, #sk-container-id-5 div.sk-parallel-item::before {content: \"\";position: absolute;border-left: 1px solid gray;box-sizing: border-box;top: 0;bottom: 0;left: 50%;z-index: -1;}#sk-container-id-5 div.sk-parallel-item {display: flex;flex-direction: column;z-index: 1;position: relative;background-color: white;}#sk-container-id-5 div.sk-parallel-item:first-child::after {align-self: flex-end;width: 50%;}#sk-container-id-5 div.sk-parallel-item:last-child::after {align-self: flex-start;width: 50%;}#sk-container-id-5 div.sk-parallel-item:only-child::after {width: 0;}#sk-container-id-5 div.sk-dashed-wrapped {border: 1px dashed gray;margin: 0 0.4em 0.5em 0.4em;box-sizing: border-box;padding-bottom: 0.4em;background-color: white;}#sk-container-id-5 div.sk-label label {font-family: monospace;font-weight: bold;display: inline-block;line-height: 1.2em;}#sk-container-id-5 div.sk-label-container {text-align: center;}#sk-container-id-5 div.sk-container {/* jupyter's `normalize.less` sets `[hidden] { display: none; }` but bootstrap.min.css set `[hidden] { display: none !important; }` so we also need the `!important` here to be able to override the default hidden behavior on the sphinx rendered scikit-learn.org. See: https://github.com/scikit-learn/scikit-learn/issues/21755 */display: inline-block !important;position: relative;}#sk-container-id-5 div.sk-text-repr-fallback {display: none;}</style><div id=\"sk-container-id-5\" class=\"sk-top-container\"><div class=\"sk-text-repr-fallback\"><pre>SVC(random_state=0)</pre><b>In a Jupyter environment, please rerun this cell to show the HTML representation or trust the notebook. <br />On GitHub, the HTML representation is unable to render, please try loading this page with nbviewer.org.</b></div><div class=\"sk-container\" hidden><div class=\"sk-item\"><div class=\"sk-estimator sk-toggleable\"><input class=\"sk-toggleable__control sk-hidden--visually\" id=\"sk-estimator-id-5\" type=\"checkbox\" checked><label for=\"sk-estimator-id-5\" class=\"sk-toggleable__label sk-toggleable__label-arrow\">SVC</label><div class=\"sk-toggleable__content\"><pre>SVC(random_state=0)</pre></div></div></div></div></div>"
      ],
      "text/plain": [
       "SVC(random_state=0)"
      ]
     },
     "execution_count": 48,
     "metadata": {},
     "output_type": "execute_result"
    }
   ],
   "source": [
    "svm = SVC(random_state=0)\n",
    "svm.fit(X_train, y_train)"
   ]
  },
  {
   "cell_type": "code",
   "execution_count": 49,
   "metadata": {
    "colab": {
     "base_uri": "https://localhost:8080/"
    },
    "id": "69E9vSg2CfXO",
    "outputId": "23bb375e-8413-48e9-8454-28d3d2797c5b"
   },
   "outputs": [
    {
     "name": "stdout",
     "output_type": "stream",
     "text": [
      "Akurasi Training: 81.89%\n",
      "Akurasi Testing: 75.41%\n"
     ]
    }
   ],
   "source": [
    "print(\"Akurasi Training: {:.2f}%\".format(svm.score(X_train, y_train)*100))\n",
    "print(\"Akurasi Testing: {:.2f}%\".format(svm.score(X_test, y_test)*100))"
   ]
  },
  {
   "cell_type": "code",
   "execution_count": 50,
   "metadata": {
    "colab": {
     "base_uri": "https://localhost:8080/"
    },
    "id": "uDcdONB4b7rp",
    "outputId": "4d4fb849-c4fc-46b4-b4a5-8c1f821d2896"
   },
   "outputs": [
    {
     "name": "stdout",
     "output_type": "stream",
     "text": [
      "              precision    recall  f1-score   support\n",
      "\n",
      "           0       0.00      0.00      0.00         3\n",
      "           1       0.54      0.50      0.52        14\n",
      "           2       0.81      0.89      0.85        44\n",
      "\n",
      "    accuracy                           0.75        61\n",
      "   macro avg       0.45      0.46      0.46        61\n",
      "weighted avg       0.71      0.75      0.73        61\n",
      "\n"
     ]
    }
   ],
   "source": [
    "y_pred = svm.predict(X_test)\n",
    "print(classification_report(y_test, y_pred))"
   ]
  },
  {
   "cell_type": "code",
   "execution_count": 51,
   "metadata": {
    "colab": {
     "base_uri": "https://localhost:8080/",
     "height": 487
    },
    "id": "JiRAM6IJdOOT",
    "outputId": "71476929-c97a-4e96-a485-a28440fee8ed"
   },
   "outputs": [
    {
     "data": {
      "image/png": "[encoded data removed]",
      "text/plain": [
       "<Figure size 600x500 with 2 Axes>"
      ]
     },
     "metadata": {},
     "output_type": "display_data"
    }
   ],
   "source": [
    "# confusion matrix\n",
    "from sklearn.metrics import confusion_matrix\n",
    "cm = confusion_matrix(y_test, y_pred)  \n",
    "\n",
    "f, ax = plt.subplots(figsize=(6, 5))      \n",
    "sns.heatmap(cm,                  \n",
    "            annot=True, \n",
    "            linewidths=0.01,    \n",
    "            cmap=\"Blues\",                \n",
    "            linecolor=\"gray\",     \n",
    "            fmt='.0f',                 \n",
    "            ax=ax)\n",
    "plt.xlabel(\"Label Prediksi\")          \n",
    "plt.ylabel(\"Label Aktual\")          \n",
    "plt.title(\"Confusion Matrix\")        \n",
    "plt.show()    "
   ]
  }
 ],
 "metadata": {
  "colab": {
   "provenance": []
  },
  "kernelspec": {
   "display_name": "Python 3 (ipykernel)",
   "language": "python",
   "name": "python3"
  },
  "language_info": {
   "codemirror_mode": {
    "name": "ipython",
    "version": 3
   },
   "file_extension": ".py",
   "mimetype": "text/x-python",
   "name": "python",
   "nbconvert_exporter": "python",
   "pygments_lexer": "ipython3",
   "version": "3.9.13"
  }
 },
 "nbformat": 4,
 "nbformat_minor": 1
}
